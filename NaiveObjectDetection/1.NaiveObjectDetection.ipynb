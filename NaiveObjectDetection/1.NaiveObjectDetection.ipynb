{
 "cells": [
  {
   "cell_type": "code",
   "execution_count": null,
   "metadata": {
    "colab": {
     "base_uri": "https://localhost:8080/"
    },
    "executionInfo": {
     "elapsed": 21282,
     "status": "ok",
     "timestamp": 1615770034978,
     "user": {
      "displayName": "Quang Vinh",
      "photoUrl": "",
      "userId": "10640784768073460440"
     },
     "user_tz": -420
    },
    "id": "woqFZmcKW26h",
    "outputId": "0fd547c9-ca73-4eb8-f98b-f21c9bd1d9ba"
   },
   "outputs": [
    {
     "name": "stdout",
     "output_type": "stream",
     "text": [
      "Mounted at /content/gdrive\n"
     ]
    }
   ],
   "source": [
    "import numpy as np\n",
    "from sklearn.metrics.pairwise import cosine_similarity\n",
    "\n",
    "import tensorflow as tf\n",
    "from tensorflow.keras.preprocessing import image as kimage\n",
    "from tensorflow.keras.applications.vgg16 import preprocess_input\n",
    "\n",
    "from google.colab import drive \n",
    "drive.mount('/content/gdrive')"
   ]
  },
  {
   "cell_type": "code",
   "execution_count": null,
   "metadata": {
    "id": "C0pbS8G0YAAq"
   },
   "outputs": [],
   "source": [
    "# get model\n",
    "model_height = 224\n",
    "model_width = 224\n",
    "model = tf.keras.applications.VGG16(include_top=True, \n",
    "                                    weights='imagenet', \n",
    "                                    input_shape=(224, 224, 3))\n",
    "#model.summary()"
   ]
  },
  {
   "cell_type": "code",
   "execution_count": null,
   "metadata": {
    "colab": {
     "base_uri": "https://localhost:8080/",
     "height": 151
    },
    "executionInfo": {
     "elapsed": 818,
     "status": "ok",
     "timestamp": 1615770177349,
     "user": {
      "displayName": "Quang Vinh",
      "photoUrl": "",
      "userId": "10640784768073460440"
     },
     "user_tz": -420
    },
    "id": "WYs7mLFzbktq",
    "outputId": "8c1e572e-e847-46ac-96d2-37c9707ef2e1"
   },
   "outputs": [
    {
     "data": {
      "text/plain": [
       "<matplotlib.image.AxesImage at 0x7efd7a1e0250>"
      ]
     },
     "execution_count": 5,
     "metadata": {
      "tags": []
     },
     "output_type": "execute_result"
    },
    {
     "data": {
      "image/png": "[encoded data removed]",
      "text/plain": [
       "<Figure size 288x288 with 1 Axes>"
      ]
     },
     "metadata": {
      "needs_background": "light",
      "tags": []
     },
     "output_type": "display_data"
    }
   ],
   "source": [
    "import matplotlib\n",
    "import matplotlib.pyplot as plt\n",
    "\n",
    "height = 550\n",
    "width  = 1500\n",
    "\n",
    "PATH  = '/content/gdrive/My Drive/data/template-matching/'\n",
    "image = kimage.load_img(PATH+'image7.jpg', target_size=(height, width))\n",
    "\n",
    "plt.figure(figsize=(4,4))\n",
    "plt.imshow(image)"
   ]
  },
  {
   "cell_type": "code",
   "execution_count": null,
   "metadata": {
    "colab": {
     "base_uri": "https://localhost:8080/"
    },
    "executionInfo": {
     "elapsed": 766,
     "status": "ok",
     "timestamp": 1615770334146,
     "user": {
      "displayName": "Quang Vinh",
      "photoUrl": "",
      "userId": "10640784768073460440"
     },
     "user_tz": -420
    },
    "id": "en7rIu9AXSRa",
    "outputId": "3d192994-836b-4dee-c970-a9edb5eed77d"
   },
   "outputs": [
    {
     "name": "stdout",
     "output_type": "stream",
     "text": [
      "(1, 550, 1500, 3)\n"
     ]
    }
   ],
   "source": [
    "# compute features\n",
    "image_np = kimage.img_to_array(image)\n",
    "image_np = np.expand_dims(image_np, axis=0)\n",
    "print(image_np.shape)"
   ]
  },
  {
   "cell_type": "code",
   "execution_count": null,
   "metadata": {},
   "outputs": [],
   "source": [
    "# compute predictions - 6hours\n",
    "prediction_data = []\n",
    "for i in range(height-model_height+1):\n",
    "    for j in range(width-model_width+1):\n",
    "        patch = image_np[:, i:i+model_height, j:j+model_width, :]\n",
    "        patch = preprocess_input(patch)\n",
    "        patch = model.predict(patch)\n",
    "        prediction_data.append( (tf.math.reduce_max(patch[0]).numpy(), \n",
    "                                 i, j, tf.math.argmax(patch[0]).numpy()) )"
   ]
  },
  {
   "cell_type": "code",
   "execution_count": null,
   "metadata": {
    "colab": {
     "base_uri": "https://localhost:8080/"
    },
    "executionInfo": {
     "elapsed": 686,
     "status": "ok",
     "timestamp": 1615130625244,
     "user": {
      "displayName": "Quang Vinh",
      "photoUrl": "",
      "userId": "10640784768073460440"
     },
     "user_tz": -420
    },
    "id": "-F416wvUXSWg",
    "outputId": "bc03aa68-d9e6-466f-ebee-23897886421f"
   },
   "outputs": [
    {
     "name": "stdout",
     "output_type": "stream",
     "text": [
      "[(0.8153709, 6, 8, 227), (0.811265, 6, 9, 227), (0.8090704, 10, 22, 207)]\n"
     ]
    }
   ],
   "source": [
    "def getKey(item):\n",
    "    return item[0]\n",
    "\n",
    "tp_sorted = sorted(prediction_data, key=getKey, reverse=True)\n",
    "print(tp_sorted[:3])"
   ]
  },
  {
   "cell_type": "code",
   "execution_count": null,
   "metadata": {
    "colab": {
     "base_uri": "https://localhost:8080/"
    },
    "executionInfo": {
     "elapsed": 786,
     "status": "ok",
     "timestamp": 1615130629847,
     "user": {
      "displayName": "Quang Vinh",
      "photoUrl": "",
      "userId": "10640784768073460440"
     },
     "user_tz": -420
    },
    "id": "-yVAvOB6u0Dj",
    "outputId": "c0f87581-fbd5-4617-a181-943f69e7fe8e"
   },
   "outputs": [
    {
     "name": "stdout",
     "output_type": "stream",
     "text": [
      "<class 'dict'>\n",
      "kelpie\n"
     ]
    }
   ],
   "source": [
    "labels = np.load(PATH+'imagenet1000_clsid_to_human.pkl', allow_pickle=True)\n",
    "print(type(labels))\n",
    "print(labels[227])"
   ]
  },
  {
   "cell_type": "code",
   "execution_count": null,
   "metadata": {
    "colab": {
     "base_uri": "https://localhost:8080/",
     "height": 166
    },
    "executionInfo": {
     "elapsed": 928,
     "status": "ok",
     "timestamp": 1615130635539,
     "user": {
      "displayName": "Quang Vinh",
      "photoUrl": "",
      "userId": "10640784768073460440"
     },
     "user_tz": -420
    },
    "id": "Siji8auZXSY8",
    "outputId": "fe1963a2-b106-4ea0-df29-73e8440fff20"
   },
   "outputs": [
    {
     "data": {
      "image/png": "[encoded data removed]",
      "text/plain": [
       "<Figure size 432x288 with 1 Axes>"
      ]
     },
     "metadata": {
      "needs_background": "light",
      "tags": []
     },
     "output_type": "display_data"
    }
   ],
   "source": [
    "import matplotlib.pyplot as plt\n",
    "import matplotlib.patches as patches\n",
    "from PIL import Image\n",
    "\n",
    "im = kimage.load_img(PATH+'image7.jpg', target_size=(510, 1500))\n",
    "\n",
    "fig, ax = plt.subplots()\n",
    "ax.imshow(im)\n",
    "\n",
    "# Create a Rectangle patch\n",
    "for i in range(1): \n",
    "    rect = patches.Rectangle((tp_sorted[i][2], tp_sorted[i][1]), 224, 224, linewidth=2, edgecolor='r', facecolor='none')\n",
    "    ax.add_patch(rect)\n",
    "    plt.text(tp_sorted[i][2]-100, tp_sorted[i][1], labels[tp_sorted[i][3]])\n",
    "\n",
    "plt.show()"
   ]
  },
  {
   "cell_type": "code",
   "execution_count": null,
   "metadata": {
    "id": "Rb33bQHU7knJ"
   },
   "outputs": [],
   "source": []
  },
  {
   "cell_type": "code",
   "execution_count": null,
   "metadata": {
    "id": "2-PoYf6cBtLM"
   },
   "outputs": [],
   "source": []
  }
 ],
 "metadata": {
  "accelerator": "GPU",
  "colab": {
   "authorship_tag": "ABX9TyM1mZspwt15riFwh0LFEdcq",
   "collapsed_sections": [],
   "name": "14.1.NaiveObjectDetection.ipynb",
   "provenance": [
    {
     "file_id": "1_CJjVVhXSezURPzxWzJayEhiL6hHmtLj",
     "timestamp": 1615769928638
    }
   ]
  },
  "kernelspec": {
   "display_name": "Python 3 (ipykernel)",
   "language": "python",
   "name": "python3"
  },
  "language_info": {
   "codemirror_mode": {
    "name": "ipython",
    "version": 3
   },
   "file_extension": ".py",
   "mimetype": "text/x-python",
   "name": "python",
   "nbconvert_exporter": "python",
   "pygments_lexer": "ipython3",
   "version": "3.9.7"
  }
 },
 "nbformat": 4,
 "nbformat_minor": 1
}
