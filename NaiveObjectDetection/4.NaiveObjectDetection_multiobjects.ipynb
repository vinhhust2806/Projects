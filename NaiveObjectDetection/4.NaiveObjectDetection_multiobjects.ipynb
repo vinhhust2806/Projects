{
 "cells": [
  {
   "cell_type": "code",
   "execution_count": null,
   "metadata": {
    "colab": {
     "base_uri": "https://localhost:8080/"
    },
    "executionInfo": {
     "elapsed": 20354,
     "status": "ok",
     "timestamp": 1615895497409,
     "user": {
      "displayName": "Quang Vinh",
      "photoUrl": "",
      "userId": "10640784768073460440"
     },
     "user_tz": -420
    },
    "id": "woqFZmcKW26h",
    "outputId": "378ba72a-9ace-49a4-b006-c016341e7218"
   },
   "outputs": [
    {
     "name": "stdout",
     "output_type": "stream",
     "text": [
      "Mounted at /content/gdrive\n"
     ]
    }
   ],
   "source": [
    "import numpy as np\n",
    "from sklearn.metrics.pairwise import cosine_similarity\n",
    "\n",
    "import tensorflow as tf\n",
    "from tensorflow.keras.preprocessing import image as kimage\n",
    "from tensorflow.keras.applications.vgg16 import preprocess_input\n",
    "\n",
    "from google.colab import drive \n",
    "drive.mount('/content/gdrive')"
   ]
  },
  {
   "cell_type": "code",
   "execution_count": null,
   "metadata": {
    "colab": {
     "base_uri": "https://localhost:8080/"
    },
    "executionInfo": {
     "elapsed": 28858,
     "status": "ok",
     "timestamp": 1615895505919,
     "user": {
      "displayName": "Quang Vinh",
      "photoUrl": "",
      "userId": "10640784768073460440"
     },
     "user_tz": -420
    },
    "id": "C0pbS8G0YAAq",
    "outputId": "8ad20231-d957-4511-d5ea-91d63b27548b"
   },
   "outputs": [
    {
     "name": "stdout",
     "output_type": "stream",
     "text": [
      "Downloading data from https://storage.googleapis.com/tensorflow/keras-applications/vgg16/vgg16_weights_tf_dim_ordering_tf_kernels.h5\n",
      "553467904/553467096 [==============================] - 3s 0us/step\n"
     ]
    }
   ],
   "source": [
    "# get model \n",
    "model = tf.keras.applications.VGG16(include_top=True, \n",
    "                                    weights='imagenet', \n",
    "                                    input_shape=(224, 224, 3))"
   ]
  },
  {
   "cell_type": "code",
   "execution_count": null,
   "metadata": {
    "colab": {
     "base_uri": "https://localhost:8080/",
     "height": 159
    },
    "executionInfo": {
     "elapsed": 29071,
     "status": "ok",
     "timestamp": 1615895506751,
     "user": {
      "displayName": "Quang Vinh",
      "photoUrl": "",
      "userId": "10640784768073460440"
     },
     "user_tz": -420
    },
    "id": "WYs7mLFzbktq",
    "outputId": "139b8b9e-8724-4fe0-e15a-c830458939df"
   },
   "outputs": [
    {
     "data": {
      "text/plain": [
       "<matplotlib.image.AxesImage at 0x7f02e6111e10>"
      ]
     },
     "execution_count": 3,
     "metadata": {
      "tags": []
     },
     "output_type": "execute_result"
    },
    {
     "data": {
      "image/png": "[encoded data removed]",
      "text/plain": [
       "<Figure size 288x288 with 1 Axes>"
      ]
     },
     "metadata": {
      "needs_background": "light",
      "tags": []
     },
     "output_type": "display_data"
    }
   ],
   "source": [
    "import matplotlib\n",
    "import matplotlib.pyplot as plt\n",
    "\n",
    "height = 600\n",
    "width  = 1500\n",
    "\n",
    "PATH = '/content/gdrive/My Drive/data/template-matching/'\n",
    "query = kimage.load_img(PATH+'image7.jpg', target_size=(height, width))\n",
    "\n",
    "plt.figure(figsize=(4,4))\n",
    "plt.imshow(query)"
   ]
  },
  {
   "cell_type": "code",
   "execution_count": null,
   "metadata": {
    "colab": {
     "base_uri": "https://localhost:8080/"
    },
    "executionInfo": {
     "elapsed": 929,
     "status": "ok",
     "timestamp": 1615895510621,
     "user": {
      "displayName": "Quang Vinh",
      "photoUrl": "",
      "userId": "10640784768073460440"
     },
     "user_tz": -420
    },
    "id": "p77nnDjGcMuC",
    "outputId": "a4524dd7-c997-4421-ef7e-aa4ad608bc73"
   },
   "outputs": [
    {
     "name": "stdout",
     "output_type": "stream",
     "text": [
      "flatten\n",
      "fc1\n",
      "fc2\n",
      "predictions\n"
     ]
    }
   ],
   "source": [
    "# check model\n",
    "for i in range(19,23):\n",
    "  print(model.layers[i].name)"
   ]
  },
  {
   "cell_type": "code",
   "execution_count": null,
   "metadata": {
    "id": "dAI_lKjneahS"
   },
   "outputs": [],
   "source": [
    "def compute_features(data):\n",
    "  for i in range(1,19):\n",
    "    data = model.layers[i](data)\n",
    "  return data"
   ]
  },
  {
   "cell_type": "code",
   "execution_count": null,
   "metadata": {
    "id": "EzLZAzntkMKU"
   },
   "outputs": [],
   "source": [
    "def compute_prediction(data):\n",
    "  for i in range(19,23):\n",
    "    data = model.layers[i](data)\n",
    "  return data"
   ]
  },
  {
   "cell_type": "code",
   "execution_count": null,
   "metadata": {
    "colab": {
     "base_uri": "https://localhost:8080/"
    },
    "executionInfo": {
     "elapsed": 35105,
     "status": "ok",
     "timestamp": 1615895549158,
     "user": {
      "displayName": "Quang Vinh",
      "photoUrl": "",
      "userId": "10640784768073460440"
     },
     "user_tz": -420
    },
    "id": "en7rIu9AXSRa",
    "outputId": "7bd15115-80f7-41e7-8f4b-6735570a8c0b"
   },
   "outputs": [
    {
     "name": "stdout",
     "output_type": "stream",
     "text": [
      "(1, 18, 46, 512)\n"
     ]
    }
   ],
   "source": [
    "# compute features\n",
    "query_np = kimage.img_to_array(query)\n",
    "query_np = np.expand_dims(query_np, axis=0)\n",
    "query_np = preprocess_input(query_np)\n",
    "\n",
    "pred_query = compute_features(query_np)\n",
    "print(pred_query.shape)"
   ]
  },
  {
   "cell_type": "code",
   "execution_count": null,
   "metadata": {
    "id": "KICJ7q4cXSUE"
   },
   "outputs": [],
   "source": [
    "# compute predictions\n",
    "height_fm = pred_query.shape[1]\n",
    "width_fm  = pred_query.shape[2]\n",
    "\n",
    "side = 7\n",
    "prediction_data = []\n",
    "for i in range(height_fm-side+1):\n",
    "  for j in range(width_fm-side+1):\n",
    "    patch = pred_query[:,i:i+side,j:j+side,:]\n",
    "    patch = compute_prediction(patch)\n",
    "    prediction_data.append( (tf.math.reduce_max(patch[0]).numpy(), \n",
    "                             i, j, \n",
    "                             tf.math.argmax(patch[0]).numpy()) )"
   ]
  },
  {
   "cell_type": "code",
   "execution_count": null,
   "metadata": {
    "colab": {
     "base_uri": "https://localhost:8080/"
    },
    "executionInfo": {
     "elapsed": 755,
     "status": "ok",
     "timestamp": 1615895571350,
     "user": {
      "displayName": "Quang Vinh",
      "photoUrl": "",
      "userId": "10640784768073460440"
     },
     "user_tz": -420
    },
    "id": "-F416wvUXSWg",
    "outputId": "dec9eee3-9e49-42ac-e7c5-b5d4f84eb52d"
   },
   "outputs": [
    {
     "name": "stdout",
     "output_type": "stream",
     "text": [
      "[(0.80608755, 11, 22, 207), (0.80576426, 11, 21, 207), (0.76992136, 6, 10, 227)]\n"
     ]
    }
   ],
   "source": [
    "def getKey(item):\n",
    "    return item[0]\n",
    "\n",
    "tp_sorted = sorted(prediction_data, key=getKey, reverse=True)\n",
    "print(tp_sorted[:3])"
   ]
  },
  {
   "cell_type": "code",
   "execution_count": null,
   "metadata": {
    "colab": {
     "base_uri": "https://localhost:8080/"
    },
    "executionInfo": {
     "elapsed": 754,
     "status": "ok",
     "timestamp": 1615895578103,
     "user": {
      "displayName": "Quang Vinh",
      "photoUrl": "",
      "userId": "10640784768073460440"
     },
     "user_tz": -420
    },
    "id": "-yVAvOB6u0Dj",
    "outputId": "a96b3eed-eaa1-4afe-899e-448e72b43642"
   },
   "outputs": [
    {
     "name": "stdout",
     "output_type": "stream",
     "text": [
      "<class 'dict'>\n",
      "kelpie\n"
     ]
    }
   ],
   "source": [
    "labels = np.load(PATH+'imagenet1000_clsid_to_human.pkl', allow_pickle=True)\n",
    "print(type(labels))\n",
    "print(labels[227])"
   ]
  },
  {
   "cell_type": "code",
   "execution_count": null,
   "metadata": {
    "colab": {
     "base_uri": "https://localhost:8080/"
    },
    "executionInfo": {
     "elapsed": 914,
     "status": "ok",
     "timestamp": 1615895585164,
     "user": {
      "displayName": "Quang Vinh",
      "photoUrl": "",
      "userId": "10640784768073460440"
     },
     "user_tz": -420
    },
    "id": "oVrgjCgq5jMw",
    "outputId": "2e4c9baa-4031-47ee-eb02-4fd259c8138a"
   },
   "outputs": [
    {
     "name": "stdout",
     "output_type": "stream",
     "text": [
      "4.242640687119285\n"
     ]
    }
   ],
   "source": [
    "from scipy.spatial import distance\n",
    "a = (1, 2)\n",
    "b = (4, 5)\n",
    "dst = distance.euclidean(a, b)\n",
    "print(dst)"
   ]
  },
  {
   "cell_type": "code",
   "execution_count": null,
   "metadata": {
    "id": "Py93Z6rK6S0r"
   },
   "outputs": [],
   "source": [
    "def check_duplication(i,j,data):\n",
    "  result = False\n",
    "\n",
    "  coord1 = (i,j)\n",
    "  \n",
    "  length = len(data)\n",
    "  for k in range(length):\n",
    "    coord2 = (data[k][1], data[k][2])\n",
    "    dst = distance.euclidean(coord1, coord2)\n",
    "\n",
    "    if (dst < 5):\n",
    "      result = True\n",
    "      break\n",
    "  \n",
    "  return result"
   ]
  },
  {
   "cell_type": "code",
   "execution_count": null,
   "metadata": {
    "id": "exoSAqzP4a6-"
   },
   "outputs": [],
   "source": [
    "from scipy.spatial import distance\n",
    "\n",
    "# remove duplication\n",
    "def remove_duplication(data):\n",
    "  result = []\n",
    "\n",
    "  length = len(data)\n",
    "  for k in range(length-1):\n",
    "    duplicated = check_duplication(data[k][1], data[k][2], result)\n",
    "    \n",
    "    if (duplicated==False and data[k][0]>0.5):\n",
    "      result.append( data[k] )\n",
    "    \n",
    "    \n",
    "  return result"
   ]
  },
  {
   "cell_type": "code",
   "execution_count": null,
   "metadata": {
    "colab": {
     "base_uri": "https://localhost:8080/"
    },
    "executionInfo": {
     "elapsed": 935,
     "status": "ok",
     "timestamp": 1615895605554,
     "user": {
      "displayName": "Quang Vinh",
      "photoUrl": "",
      "userId": "10640784768073460440"
     },
     "user_tz": -420
    },
    "id": "Ijw-l-6E-t1W",
    "outputId": "8ff787bb-51ce-46fd-a9ec-126c4ec80e61"
   },
   "outputs": [
    {
     "name": "stdout",
     "output_type": "stream",
     "text": [
      "480\n",
      "[(0.80608755, 11, 22, 207), (0.80576426, 11, 21, 207), (0.76992136, 6, 10, 227)]\n",
      "5\n",
      "[(0.80608755, 11, 22, 207), (0.76992136, 6, 10, 227), (0.7641215, 1, 9, 195), (0.6302975, 6, 5, 180), (0.5545308, 8, 15, 281)]\n"
     ]
    }
   ],
   "source": [
    "print(len(tp_sorted))\n",
    "print(tp_sorted[:3])\n",
    "result = remove_duplication(tp_sorted)\n",
    "print(len(result))\n",
    "print(result)"
   ]
  },
  {
   "cell_type": "code",
   "execution_count": null,
   "metadata": {
    "colab": {
     "base_uri": "https://localhost:8080/",
     "height": 186
    },
    "executionInfo": {
     "elapsed": 894,
     "status": "ok",
     "timestamp": 1615895679422,
     "user": {
      "displayName": "Quang Vinh",
      "photoUrl": "",
      "userId": "10640784768073460440"
     },
     "user_tz": -420
    },
    "id": "2cLCHa7BXSda",
    "outputId": "2da618b8-7e7b-4594-f31a-7e09a08f090e"
   },
   "outputs": [
    {
     "data": {
      "image/png": "[encoded data removed]",
      "text/plain": [
       "<Figure size 432x288 with 1 Axes>"
      ]
     },
     "metadata": {
      "needs_background": "light",
      "tags": []
     },
     "output_type": "display_data"
    }
   ],
   "source": [
    "# Show all with a threshold\n",
    "import matplotlib.pyplot as plt\n",
    "import matplotlib.patches as patches\n",
    "from PIL import Image\n",
    "\n",
    "im = kimage.load_img(PATH+'image7.jpg', target_size=(600, 1500))\n",
    "\n",
    "fig, ax = plt.subplots()\n",
    "ax.imshow(im)\n",
    "\n",
    "length = len(tp_sorted)\n",
    "\n",
    "# Create a Rectangle patch\n",
    "scale_height = 600//18\n",
    "scale_width  = 1500//46\n",
    "for i in range(length): \n",
    "  if (tp_sorted[i][0] > 0.6):\n",
    "    rect = patches.Rectangle((tp_sorted[i][2]*scale_width, tp_sorted[i][1]*scale_height), \n",
    "                             224, 224, linewidth=2, edgecolor='r', facecolor='none')\n",
    "    ax.add_patch(rect)\n",
    "\n",
    "plt.show()"
   ]
  },
  {
   "cell_type": "code",
   "execution_count": null,
   "metadata": {
    "colab": {
     "base_uri": "https://localhost:8080/",
     "height": 166
    },
    "executionInfo": {
     "elapsed": 886,
     "status": "ok",
     "timestamp": 1615895710542,
     "user": {
      "displayName": "Quang Vinh",
      "photoUrl": "",
      "userId": "10640784768073460440"
     },
     "user_tz": -420
    },
    "id": "99ORDKi33ofd",
    "outputId": "15d4e746-8f0d-45aa-ac1f-345c49b533db"
   },
   "outputs": [
    {
     "data": {
      "image/png": "[encoded data removed]",
      "text/plain": [
       "<Figure size 432x288 with 1 Axes>"
      ]
     },
     "metadata": {
      "needs_background": "light",
      "tags": []
     },
     "output_type": "display_data"
    }
   ],
   "source": [
    "# Show all with a threshold\n",
    "import matplotlib.pyplot as plt\n",
    "import matplotlib.patches as patches\n",
    "from PIL import Image\n",
    "\n",
    "im = kimage.load_img(PATH+'image7.jpg', target_size=(510, 1500))\n",
    "\n",
    "fig, ax = plt.subplots()\n",
    "ax.imshow(im)\n",
    "\n",
    "length = len(result)\n",
    "\n",
    "# Create a Rectangle patch\n",
    "scale_height = 600//18\n",
    "scale_width  = 1500//46\n",
    "for i in range(length):   \n",
    "  rect = patches.Rectangle((result[i][2]*scale_width, result[i][1]*scale_height), \n",
    "                           224, 224, linewidth=2, edgecolor='r', facecolor='none')\n",
    "  ax.add_patch(rect)\n",
    "\n",
    "plt.show()"
   ]
  },
  {
   "cell_type": "code",
   "execution_count": null,
   "metadata": {
    "id": "2-PoYf6cBtLM"
   },
   "outputs": [],
   "source": []
  }
 ],
 "metadata": {
  "accelerator": "GPU",
  "colab": {
   "authorship_tag": "ABX9TyPHfFYiRRwQeBflwI41zbLV",
   "collapsed_sections": [],
   "name": "14.4.NaiveObjectDetection_multiobjects.ipynb",
   "provenance": [
    {
     "file_id": "1_CJjVVhXSezURPzxWzJayEhiL6hHmtLj",
     "timestamp": 1615130763304
    }
   ]
  },
  "kernelspec": {
   "display_name": "Python 3 (ipykernel)",
   "language": "python",
   "name": "python3"
  },
  "language_info": {
   "codemirror_mode": {
    "name": "ipython",
    "version": 3
   },
   "file_extension": ".py",
   "mimetype": "text/x-python",
   "name": "python",
   "nbconvert_exporter": "python",
   "pygments_lexer": "ipython3",
   "version": "3.9.7"
  }
 },
 "nbformat": 4,
 "nbformat_minor": 1
}
