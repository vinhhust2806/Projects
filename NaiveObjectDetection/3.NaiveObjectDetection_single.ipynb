{
 "cells": [
  {
   "cell_type": "code",
   "execution_count": null,
   "metadata": {
    "colab": {
     "base_uri": "https://localhost:8080/"
    },
    "executionInfo": {
     "elapsed": 34373,
     "status": "ok",
     "timestamp": 1615895038659,
     "user": {
      "displayName": "Quang Vinh",
      "photoUrl": "",
      "userId": "10640784768073460440"
     },
     "user_tz": -420
    },
    "id": "woqFZmcKW26h",
    "outputId": "60936ecc-26e3-4445-aa7b-4cf2691ef107"
   },
   "outputs": [
    {
     "name": "stdout",
     "output_type": "stream",
     "text": [
      "Mounted at /content/gdrive\n"
     ]
    }
   ],
   "source": [
    "import numpy as np\n",
    "from sklearn.metrics.pairwise import cosine_similarity\n",
    "\n",
    "import tensorflow as tf\n",
    "from tensorflow.keras.preprocessing import image as kimage\n",
    "from tensorflow.keras.applications.vgg16 import preprocess_input\n",
    "\n",
    "from google.colab import drive \n",
    "drive.mount('/content/gdrive')"
   ]
  },
  {
   "cell_type": "code",
   "execution_count": null,
   "metadata": {
    "colab": {
     "base_uri": "https://localhost:8080/"
    },
    "executionInfo": {
     "elapsed": 9928,
     "status": "ok",
     "timestamp": 1615895051267,
     "user": {
      "displayName": "Quang Vinh",
      "photoUrl": "",
      "userId": "10640784768073460440"
     },
     "user_tz": -420
    },
    "id": "C0pbS8G0YAAq",
    "outputId": "f3c897c5-b022-4ddf-b6e2-45be9f9ccea6"
   },
   "outputs": [
    {
     "name": "stdout",
     "output_type": "stream",
     "text": [
      "Downloading data from https://storage.googleapis.com/tensorflow/keras-applications/vgg16/vgg16_weights_tf_dim_ordering_tf_kernels.h5\n",
      "553467904/553467096 [==============================] - 3s 0us/step\n"
     ]
    }
   ],
   "source": [
    "# get model\n",
    "model = tf.keras.applications.VGG16(include_top=True, \n",
    "                                    weights='imagenet', \n",
    "                                    input_shape=(224, 224, 3))\n",
    "#model.summary()"
   ]
  },
  {
   "cell_type": "code",
   "execution_count": null,
   "metadata": {
    "colab": {
     "base_uri": "https://localhost:8080/",
     "height": 159
    },
    "executionInfo": {
     "elapsed": 939,
     "status": "ok",
     "timestamp": 1615895337185,
     "user": {
      "displayName": "Quang Vinh",
      "photoUrl": "",
      "userId": "10640784768073460440"
     },
     "user_tz": -420
    },
    "id": "WYs7mLFzbktq",
    "outputId": "7ee20e18-78e0-42e8-e93f-14a63bafd814"
   },
   "outputs": [
    {
     "data": {
      "text/plain": [
       "<matplotlib.image.AxesImage at 0x7fd267467150>"
      ]
     },
     "execution_count": 18,
     "metadata": {
      "tags": []
     },
     "output_type": "execute_result"
    },
    {
     "data": {
      "image/png": "[encoded data removed]",
      "text/plain": [
       "<Figure size 288x288 with 1 Axes>"
      ]
     },
     "metadata": {
      "needs_background": "light",
      "tags": []
     },
     "output_type": "display_data"
    }
   ],
   "source": [
    "import matplotlib\n",
    "import matplotlib.pyplot as plt\n",
    "\n",
    "height = 600\n",
    "width  = 1500\n",
    "\n",
    "PATH = '/content/gdrive/My Drive/data/template-matching/'\n",
    "query = kimage.load_img(PATH+'image7.jpg', target_size=(height, width))\n",
    "\n",
    "plt.figure(figsize=(4,4))\n",
    "plt.imshow(query)"
   ]
  },
  {
   "cell_type": "code",
   "execution_count": null,
   "metadata": {
    "colab": {
     "base_uri": "https://localhost:8080/"
    },
    "executionInfo": {
     "elapsed": 925,
     "status": "ok",
     "timestamp": 1615895337579,
     "user": {
      "displayName": "Quang Vinh",
      "photoUrl": "",
      "userId": "10640784768073460440"
     },
     "user_tz": -420
    },
    "id": "p77nnDjGcMuC",
    "outputId": "edad0512-a0e9-4664-b6f9-316d4ae240ad"
   },
   "outputs": [
    {
     "name": "stdout",
     "output_type": "stream",
     "text": [
      "flatten\n",
      "fc1\n",
      "fc2\n",
      "predictions\n"
     ]
    }
   ],
   "source": [
    "# check model\n",
    "for i in range(19,23):\n",
    "  print(model.layers[i].name)"
   ]
  },
  {
   "cell_type": "code",
   "execution_count": null,
   "metadata": {
    "id": "dAI_lKjneahS"
   },
   "outputs": [],
   "source": [
    "def compute_features(data):\n",
    "  for i in range(1,19):\n",
    "    data = model.layers[i](data)\n",
    "  return data"
   ]
  },
  {
   "cell_type": "code",
   "execution_count": null,
   "metadata": {
    "id": "EzLZAzntkMKU"
   },
   "outputs": [],
   "source": [
    "def compute_prediction(data):\n",
    "  for i in range(19,23):\n",
    "    data = model.layers[i](data)\n",
    "  return data"
   ]
  },
  {
   "cell_type": "code",
   "execution_count": null,
   "metadata": {
    "colab": {
     "base_uri": "https://localhost:8080/"
    },
    "executionInfo": {
     "elapsed": 806,
     "status": "ok",
     "timestamp": 1615895341052,
     "user": {
      "displayName": "Quang Vinh",
      "photoUrl": "",
      "userId": "10640784768073460440"
     },
     "user_tz": -420
    },
    "id": "en7rIu9AXSRa",
    "outputId": "78d4ccc7-f805-48e0-8c34-f78260a75151"
   },
   "outputs": [
    {
     "name": "stdout",
     "output_type": "stream",
     "text": [
      "(1, 18, 46, 512)\n"
     ]
    }
   ],
   "source": [
    "# compute features\n",
    "query_np = kimage.img_to_array(query)\n",
    "query_np = np.expand_dims(query_np, axis=0)\n",
    "query_np = preprocess_input(query_np)\n",
    "\n",
    "pred_query = compute_features(query_np)\n",
    "print(pred_query.shape)"
   ]
  },
  {
   "cell_type": "code",
   "execution_count": null,
   "metadata": {
    "id": "KICJ7q4cXSUE"
   },
   "outputs": [],
   "source": [
    "# compute predictions\n",
    "height_fm = pred_query.shape[1]\n",
    "width_fm  = pred_query.shape[2]\n",
    "depth_fm  = pred_query.shape[3]\n",
    "\n",
    "side = 7\n",
    "prediction_data = []\n",
    "for i in range(height_fm-side+1):\n",
    "  for j in range(width_fm-side+1):\n",
    "    patch = pred_query[:,i:i+side,j:j+side,:]\n",
    "    patch = compute_prediction(patch)\n",
    "    prediction_data.append( (tf.math.reduce_max(patch[0]).numpy(), \n",
    "                             i, j, tf.math.argmax(patch[0]).numpy()) )"
   ]
  },
  {
   "cell_type": "code",
   "execution_count": null,
   "metadata": {
    "colab": {
     "base_uri": "https://localhost:8080/"
    },
    "executionInfo": {
     "elapsed": 864,
     "status": "ok",
     "timestamp": 1615895361730,
     "user": {
      "displayName": "Quang Vinh",
      "photoUrl": "",
      "userId": "10640784768073460440"
     },
     "user_tz": -420
    },
    "id": "-F416wvUXSWg",
    "outputId": "25c9210e-4f28-43ef-9f9a-aaf4e4a88d2f"
   },
   "outputs": [
    {
     "name": "stdout",
     "output_type": "stream",
     "text": [
      "[(0.80608755, 11, 22, 207), (0.80576426, 11, 21, 207), (0.76992136, 6, 10, 227)]\n"
     ]
    }
   ],
   "source": [
    "def getKey(item):\n",
    "    return item[0]\n",
    "\n",
    "tp_sorted = sorted(prediction_data, key=getKey, reverse=True)\n",
    "print(tp_sorted[:3])"
   ]
  },
  {
   "cell_type": "code",
   "execution_count": null,
   "metadata": {
    "colab": {
     "base_uri": "https://localhost:8080/"
    },
    "executionInfo": {
     "elapsed": 759,
     "status": "ok",
     "timestamp": 1615895370022,
     "user": {
      "displayName": "Quang Vinh",
      "photoUrl": "",
      "userId": "10640784768073460440"
     },
     "user_tz": -420
    },
    "id": "-yVAvOB6u0Dj",
    "outputId": "3036b02b-a6b3-4e0e-a731-a3e5d741e7a9"
   },
   "outputs": [
    {
     "name": "stdout",
     "output_type": "stream",
     "text": [
      "<class 'dict'>\n",
      "kelpie\n"
     ]
    }
   ],
   "source": [
    "labels = np.load(PATH+'imagenet1000_clsid_to_human.pkl', allow_pickle=True)\n",
    "print(type(labels))\n",
    "print(labels[227])"
   ]
  },
  {
   "cell_type": "code",
   "execution_count": null,
   "metadata": {
    "colab": {
     "base_uri": "https://localhost:8080/",
     "height": 186
    },
    "executionInfo": {
     "elapsed": 1003,
     "status": "ok",
     "timestamp": 1615895393472,
     "user": {
      "displayName": "Quang Vinh",
      "photoUrl": "",
      "userId": "10640784768073460440"
     },
     "user_tz": -420
    },
    "id": "Siji8auZXSY8",
    "outputId": "910ee6cc-b8cb-4f04-fed3-66b0f9fda837"
   },
   "outputs": [
    {
     "data": {
      "image/png": "[encoded data removed]",
      "text/plain": [
       "<Figure size 432x288 with 1 Axes>"
      ]
     },
     "metadata": {
      "needs_background": "light",
      "tags": []
     },
     "output_type": "display_data"
    }
   ],
   "source": [
    "import matplotlib.pyplot as plt\n",
    "import matplotlib.patches as patches\n",
    "from PIL import Image\n",
    "\n",
    "im = kimage.load_img(PATH+'image7.jpg', target_size=(600, 1500))\n",
    "\n",
    "fig, ax = plt.subplots()\n",
    "ax.imshow(im)\n",
    "\n",
    "# Create a Rectangle patch\n",
    "scale_height = height//pred_query.shape[1]\n",
    "scale_width  = width//pred_query.shape[2]\n",
    "for i in range(1): \n",
    "  rect = patches.Rectangle((tp_sorted[i][2]*scale_width,tp_sorted[i][1]*scale_height), \n",
    "                           224, 224, linewidth=2, edgecolor='r', facecolor='none')\n",
    "  ax.add_patch(rect)\n",
    "  plt.text(tp_sorted[i][2]*scale_width, tp_sorted[i][1]*scale_height, labels[tp_sorted[i][3]])\n",
    "\n",
    "plt.show()"
   ]
  },
  {
   "cell_type": "code",
   "execution_count": null,
   "metadata": {
    "id": "Rb33bQHU7knJ"
   },
   "outputs": [],
   "source": []
  }
 ],
 "metadata": {
  "accelerator": "GPU",
  "colab": {
   "authorship_tag": "ABX9TyPstRNk1wXNwpJOuqP9rYEB",
   "collapsed_sections": [],
   "name": "14.3.NaiveObjectDetection_single.ipynb",
   "provenance": []
  },
  "kernelspec": {
   "display_name": "Python 3 (ipykernel)",
   "language": "python",
   "name": "python3"
  },
  "language_info": {
   "codemirror_mode": {
    "name": "ipython",
    "version": 3
   },
   "file_extension": ".py",
   "mimetype": "text/x-python",
   "name": "python",
   "nbconvert_exporter": "python",
   "pygments_lexer": "ipython3",
   "version": "3.9.7"
  }
 },
 "nbformat": 4,
 "nbformat_minor": 1
}
