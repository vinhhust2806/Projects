{
 "cells": [
  {
   "cell_type": "code",
   "execution_count": null,
   "metadata": {
    "colab": {
     "base_uri": "https://localhost:8080/"
    },
    "executionInfo": {
     "elapsed": 22755,
     "status": "ok",
     "timestamp": 1615895804726,
     "user": {
      "displayName": "Quang Vinh",
      "photoUrl": "",
      "userId": "10640784768073460440"
     },
     "user_tz": -420
    },
    "id": "woqFZmcKW26h",
    "outputId": "10e86c00-ee7b-4d71-cdeb-9a1f1eb83323"
   },
   "outputs": [
    {
     "name": "stdout",
     "output_type": "stream",
     "text": [
      "Mounted at /content/gdrive\n"
     ]
    }
   ],
   "source": [
    "import numpy as np\n",
    "from sklearn.metrics.pairwise import cosine_similarity\n",
    "\n",
    "import tensorflow as tf\n",
    "from tensorflow.keras.preprocessing import image as kimage\n",
    "from tensorflow.keras.applications.vgg16 import preprocess_input\n",
    "\n",
    "from google.colab import drive \n",
    "drive.mount('/content/gdrive')"
   ]
  },
  {
   "cell_type": "code",
   "execution_count": null,
   "metadata": {
    "colab": {
     "base_uri": "https://localhost:8080/"
    },
    "executionInfo": {
     "elapsed": 11704,
     "status": "ok",
     "timestamp": 1615895818867,
     "user": {
      "displayName": "Quang Vinh",
      "photoUrl": "",
      "userId": "10640784768073460440"
     },
     "user_tz": -420
    },
    "id": "C0pbS8G0YAAq",
    "outputId": "52692ea2-3e55-4cd0-a639-f73d3cb54869"
   },
   "outputs": [
    {
     "name": "stdout",
     "output_type": "stream",
     "text": [
      "Downloading data from https://storage.googleapis.com/tensorflow/keras-applications/vgg16/vgg16_weights_tf_dim_ordering_tf_kernels.h5\n",
      "553467904/553467096 [==============================] - 5s 0us/step\n"
     ]
    }
   ],
   "source": [
    "# get model\n",
    "model = tf.keras.applications.VGG16(include_top=True, weights='imagenet', input_shape=(224, 224, 3))\n",
    "#model.summary()"
   ]
  },
  {
   "cell_type": "code",
   "execution_count": null,
   "metadata": {
    "colab": {
     "base_uri": "https://localhost:8080/",
     "height": 193
    },
    "executionInfo": {
     "elapsed": 2377,
     "status": "ok",
     "timestamp": 1615895821260,
     "user": {
      "displayName": "Quang Vinh",
      "photoUrl": "",
      "userId": "10640784768073460440"
     },
     "user_tz": -420
    },
    "id": "WYs7mLFzbktq",
    "outputId": "0a836049-f507-428a-e8c2-97b7b106d8d3"
   },
   "outputs": [
    {
     "name": "stdout",
     "output_type": "stream",
     "text": [
      "(1, 600, 1500, 3)\n",
      "(1, 1200, 3000, 3)\n"
     ]
    },
    {
     "data": {
      "text/plain": [
       "<matplotlib.image.AxesImage at 0x7fa1e81dea50>"
      ]
     },
     "execution_count": 3,
     "metadata": {
      "tags": []
     },
     "output_type": "execute_result"
    },
    {
     "data": {
      "image/png": "[encoded data removed]",
      "text/plain": [
       "<Figure size 288x288 with 1 Axes>"
      ]
     },
     "metadata": {
      "needs_background": "light",
      "tags": []
     },
     "output_type": "display_data"
    }
   ],
   "source": [
    "import matplotlib\n",
    "import matplotlib.pyplot as plt\n",
    "\n",
    "PATH = '/content/gdrive/My Drive/data/template-matching/'\n",
    "height = 600\n",
    "width  = 1500\n",
    "image_path = PATH+'image7.jpg'\n",
    "\n",
    "scale_level = 2\n",
    "list_of_images = []\n",
    "\n",
    "for i in range(scale_level):\n",
    "  img = kimage.load_img(image_path, target_size=(height*(i+1), width*(i+1)))\n",
    "  img = np.expand_dims(img, axis=0)\n",
    "  list_of_images.append(img)\n",
    "\n",
    "# check\n",
    "for i in range(scale_level):\n",
    "  print(list_of_images[i].shape)\n",
    "\n",
    "plt.figure(figsize=(4,4))\n",
    "plt.imshow(list_of_images[0][0])"
   ]
  },
  {
   "cell_type": "code",
   "execution_count": null,
   "metadata": {
    "colab": {
     "base_uri": "https://localhost:8080/"
    },
    "executionInfo": {
     "elapsed": 2370,
     "status": "ok",
     "timestamp": 1615895821261,
     "user": {
      "displayName": "Quang Vinh",
      "photoUrl": "",
      "userId": "10640784768073460440"
     },
     "user_tz": -420
    },
    "id": "p77nnDjGcMuC",
    "outputId": "9e690bbc-d2f2-4759-ab8a-92ce40b14c42"
   },
   "outputs": [
    {
     "name": "stdout",
     "output_type": "stream",
     "text": [
      "flatten\n",
      "fc1\n",
      "fc2\n",
      "predictions\n"
     ]
    }
   ],
   "source": [
    "# check model\n",
    "for i in range(19,23):\n",
    "  print(model.layers[i].name)"
   ]
  },
  {
   "cell_type": "code",
   "execution_count": null,
   "metadata": {
    "id": "dAI_lKjneahS"
   },
   "outputs": [],
   "source": [
    "def compute_features(data):\n",
    "  for i in range(1,19):\n",
    "    data = model.layers[i](data)\n",
    "  return data"
   ]
  },
  {
   "cell_type": "code",
   "execution_count": null,
   "metadata": {
    "id": "EzLZAzntkMKU"
   },
   "outputs": [],
   "source": [
    "def compute_prediction(data):\n",
    "  for i in range(19,23):\n",
    "    data = model.layers[i](data)\n",
    "  return data"
   ]
  },
  {
   "cell_type": "code",
   "execution_count": null,
   "metadata": {
    "colab": {
     "base_uri": "https://localhost:8080/"
    },
    "executionInfo": {
     "elapsed": 43713,
     "status": "ok",
     "timestamp": 1615895881534,
     "user": {
      "displayName": "Quang Vinh",
      "photoUrl": "",
      "userId": "10640784768073460440"
     },
     "user_tz": -420
    },
    "id": "en7rIu9AXSRa",
    "outputId": "882e6368-2a5f-4307-abea-8f9b90961b72"
   },
   "outputs": [
    {
     "name": "stdout",
     "output_type": "stream",
     "text": [
      "(1, 600, 1500, 3)\n",
      "(1, 1200, 3000, 3)\n"
     ]
    }
   ],
   "source": [
    "# compute features for templates\n",
    "list_of_features = []\n",
    "for i in range(scale_level):\n",
    "  features = preprocess_input(list_of_images[i])\n",
    "  print(features.shape)\n",
    "  features = compute_features(features)\n",
    "  list_of_features.append(features)"
   ]
  },
  {
   "cell_type": "code",
   "execution_count": null,
   "metadata": {
    "colab": {
     "base_uri": "https://localhost:8080/"
    },
    "executionInfo": {
     "elapsed": 42959,
     "status": "ok",
     "timestamp": 1615895881539,
     "user": {
      "displayName": "Quang Vinh",
      "photoUrl": "",
      "userId": "10640784768073460440"
     },
     "user_tz": -420
    },
    "id": "0n_XRYPT5a-R",
    "outputId": "e49fef4e-0cb6-4865-9ae9-4b1d8bccbf7e"
   },
   "outputs": [
    {
     "name": "stdout",
     "output_type": "stream",
     "text": [
      "(1, 18, 46, 512)\n",
      "(1, 37, 93, 512)\n"
     ]
    }
   ],
   "source": [
    "# check\n",
    "for i in range(scale_level):\n",
    "  print(list_of_features[i].shape)"
   ]
  },
  {
   "cell_type": "code",
   "execution_count": null,
   "metadata": {
    "colab": {
     "base_uri": "https://localhost:8080/"
    },
    "executionInfo": {
     "elapsed": 37659,
     "status": "ok",
     "timestamp": 1615895890045,
     "user": {
      "displayName": "Quang Vinh",
      "photoUrl": "",
      "userId": "10640784768073460440"
     },
     "user_tz": -420
    },
    "id": "KICJ7q4cXSUE",
    "outputId": "3f638a53-997b-4eb3-ab53-c159d8d6eca5"
   },
   "outputs": [
    {
     "name": "stdout",
     "output_type": "stream",
     "text": [
      "scale:  0\n",
      "scale:  1\n",
      "3177\n"
     ]
    }
   ],
   "source": [
    "# compute predictions\n",
    "side = 7\n",
    "prediction_data = []\n",
    "\n",
    "for scale in range(scale_level):\n",
    "  print('scale: ', scale)\n",
    "  height_fm = list_of_features[scale].shape[1]\n",
    "  width_fm  = list_of_features[scale].shape[2]\n",
    "  depth_fm  = list_of_features[scale].shape[3]\n",
    "\n",
    "  for i in range(height_fm-side+1):\n",
    "    for j in range(width_fm-side+1):\n",
    "      patch = list_of_features[scale][:,i:i+side,j:j+side,:]\n",
    "      patch = compute_prediction(patch)\n",
    "      prediction_data.append( (tf.math.reduce_max(patch[0]).numpy(), \n",
    "                               i, j, tf.math.argmax(patch[0]).numpy(), scale) )\n",
    "      \n",
    "print(len(prediction_data))"
   ]
  },
  {
   "cell_type": "code",
   "execution_count": null,
   "metadata": {
    "colab": {
     "base_uri": "https://localhost:8080/"
    },
    "executionInfo": {
     "elapsed": 37039,
     "status": "ok",
     "timestamp": 1615895890046,
     "user": {
      "displayName": "Quang Vinh",
      "photoUrl": "",
      "userId": "10640784768073460440"
     },
     "user_tz": -420
    },
    "id": "-F416wvUXSWg",
    "outputId": "2da6c01f-f886-40f3-f5d2-4478aeaf0813"
   },
   "outputs": [
    {
     "name": "stdout",
     "output_type": "stream",
     "text": [
      "[(0.95744056, 22, 39, 283, 1), (0.9384233, 23, 39, 283, 1), (0.9351347, 24, 38, 283, 1)]\n"
     ]
    }
   ],
   "source": [
    "def getKey(item):\n",
    "    return item[0]\n",
    "\n",
    "pred_sorted = sorted(prediction_data, key=getKey, reverse=True)\n",
    "print(pred_sorted[:3])"
   ]
  },
  {
   "cell_type": "code",
   "execution_count": null,
   "metadata": {
    "colab": {
     "base_uri": "https://localhost:8080/"
    },
    "executionInfo": {
     "elapsed": 30881,
     "status": "ok",
     "timestamp": 1615895890319,
     "user": {
      "displayName": "Quang Vinh",
      "photoUrl": "",
      "userId": "10640784768073460440"
     },
     "user_tz": -420
    },
    "id": "-yVAvOB6u0Dj",
    "outputId": "2ad456d5-0f3d-4295-f32f-43d922219da1"
   },
   "outputs": [
    {
     "name": "stdout",
     "output_type": "stream",
     "text": [
      "<class 'dict'>\n",
      "kelpie\n"
     ]
    }
   ],
   "source": [
    "labels = np.load(PATH+'imagenet1000_clsid_to_human.pkl', allow_pickle=True)\n",
    "print(type(labels))\n",
    "print(labels[227])"
   ]
  },
  {
   "cell_type": "code",
   "execution_count": null,
   "metadata": {
    "colab": {
     "base_uri": "https://localhost:8080/"
    },
    "executionInfo": {
     "elapsed": 30223,
     "status": "ok",
     "timestamp": 1615895890320,
     "user": {
      "displayName": "Quang Vinh",
      "photoUrl": "",
      "userId": "10640784768073460440"
     },
     "user_tz": -420
    },
    "id": "oVrgjCgq5jMw",
    "outputId": "8f1b40ec-fb52-4420-be37-f3fe39d3528f"
   },
   "outputs": [
    {
     "name": "stdout",
     "output_type": "stream",
     "text": [
      "4.242640687119285\n"
     ]
    }
   ],
   "source": [
    "from scipy.spatial import distance\n",
    "a = (1, 2)\n",
    "b = (4, 5)\n",
    "dst = distance.euclidean(a, b)\n",
    "print(dst)"
   ]
  },
  {
   "cell_type": "code",
   "execution_count": null,
   "metadata": {
    "id": "Py93Z6rK6S0r"
   },
   "outputs": [],
   "source": [
    "def check_duplication(i,j,data):\n",
    "  result = False\n",
    "\n",
    "  coord1 = (i,j)\n",
    "  \n",
    "  length = len(data)\n",
    "  for k in range(length):\n",
    "    coord2 = (data[k][1], data[k][2])\n",
    "    dst = distance.euclidean(coord1, coord2)\n",
    "\n",
    "    if (dst < 5):\n",
    "      result = True\n",
    "      break\n",
    "  \n",
    "  return result"
   ]
  },
  {
   "cell_type": "code",
   "execution_count": null,
   "metadata": {
    "id": "exoSAqzP4a6-"
   },
   "outputs": [],
   "source": [
    "from scipy.spatial import distance\n",
    "\n",
    "# remove duplication\n",
    "def remove_duplication(data):\n",
    "  result = []\n",
    "\n",
    "  length = len(data)\n",
    "  for k in range(length-1):\n",
    "    duplicated = check_duplication(data[k][1], data[k][2], result)\n",
    "    \n",
    "    if (duplicated==False and data[k][0]>0.5):\n",
    "      result.append( data[k] )\n",
    "    \n",
    "    \n",
    "  return result"
   ]
  },
  {
   "cell_type": "code",
   "execution_count": null,
   "metadata": {
    "colab": {
     "base_uri": "https://localhost:8080/"
    },
    "executionInfo": {
     "elapsed": 21174,
     "status": "ok",
     "timestamp": 1615895891205,
     "user": {
      "displayName": "Quang Vinh",
      "photoUrl": "",
      "userId": "10640784768073460440"
     },
     "user_tz": -420
    },
    "id": "Ijw-l-6E-t1W",
    "outputId": "1f1a78a6-d7df-481b-98fa-23f187acec39"
   },
   "outputs": [
    {
     "name": "stdout",
     "output_type": "stream",
     "text": [
      "3177\n",
      "[(0.95744056, 22, 39, 283, 1), (0.9384233, 23, 39, 283, 1), (0.9351347, 24, 38, 283, 1)]\n",
      "21\n",
      "[(0.95744056, 22, 39, 283, 1), (0.8178092, 25, 63, 281, 1), (0.8138674, 27, 31, 283, 1)]\n"
     ]
    }
   ],
   "source": [
    "print(len(pred_sorted))\n",
    "print(pred_sorted[:3])\n",
    "\n",
    "result = remove_duplication(pred_sorted)\n",
    "print(len(result))\n",
    "print(result[:3])"
   ]
  },
  {
   "cell_type": "code",
   "execution_count": null,
   "metadata": {
    "colab": {
     "base_uri": "https://localhost:8080/"
    },
    "executionInfo": {
     "elapsed": 11991,
     "status": "ok",
     "timestamp": 1615895891206,
     "user": {
      "displayName": "Quang Vinh",
      "photoUrl": "",
      "userId": "10640784768073460440"
     },
     "user_tz": -420
    },
    "id": "vpJ-zDfkB0Tn",
    "outputId": "3a475e33-e5c2-4394-82e1-7e953fbe8781"
   },
   "outputs": [
    {
     "data": {
      "text/plain": [
       "[(0.95744056, 22, 39, 283, 1),\n",
       " (0.8178092, 25, 63, 281, 1),\n",
       " (0.8138674, 27, 31, 283, 1),\n",
       " (0.80608755, 11, 22, 207, 0),\n",
       " (0.7989629, 28, 54, 568, 1),\n",
       " (0.7983379, 25, 50, 207, 1),\n",
       " (0.76992136, 6, 10, 227, 0),\n",
       " (0.766482, 10, 16, 268, 1),\n",
       " (0.7641215, 1, 9, 195, 0),\n",
       " (0.738926, 17, 33, 281, 1),\n",
       " (0.7181673, 21, 68, 285, 1),\n",
       " (0.7120905, 17, 43, 157, 1),\n",
       " (0.6906255, 30, 45, 568, 1),\n",
       " (0.6420605, 22, 30, 281, 1),\n",
       " (0.6302975, 6, 5, 180, 0),\n",
       " (0.6268202, 27, 36, 283, 1),\n",
       " (0.6000203, 26, 68, 281, 1),\n",
       " (0.5580739, 21, 16, 247, 1),\n",
       " (0.54808897, 14, 26, 227, 1),\n",
       " (0.546997, 17, 38, 281, 1),\n",
       " (0.50328815, 18, 52, 231, 1)]"
      ]
     },
     "execution_count": 16,
     "metadata": {
      "tags": []
     },
     "output_type": "execute_result"
    }
   ],
   "source": [
    "result"
   ]
  },
  {
   "cell_type": "code",
   "execution_count": null,
   "metadata": {
    "colab": {
     "base_uri": "https://localhost:8080/",
     "height": 342
    },
    "executionInfo": {
     "elapsed": 1099,
     "status": "ok",
     "timestamp": 1615896296931,
     "user": {
      "displayName": "Quang Vinh",
      "photoUrl": "",
      "userId": "10640784768073460440"
     },
     "user_tz": -420
    },
    "id": "99ORDKi33ofd",
    "outputId": "705a8612-7659-4d24-a567-536cb51810c7"
   },
   "outputs": [
    {
     "name": "stdout",
     "output_type": "stream",
     "text": [
      "0.95744056 22 39 1\n",
      "0.8178092 25 63 1\n",
      "0.8138674 27 31 1\n",
      "0.80608755 11 22 0\n",
      "0.7989629 28 54 1\n",
      "0.7983379 25 50 1\n",
      "0.76992136 6 10 0\n",
      "0.766482 10 16 1\n",
      "0.7641215 1 9 0\n"
     ]
    },
    {
     "data": {
      "image/png": "[encoded data removed]",
      "text/plain": [
       "<Figure size 432x288 with 1 Axes>"
      ]
     },
     "metadata": {
      "needs_background": "light",
      "tags": []
     },
     "output_type": "display_data"
    }
   ],
   "source": [
    "# Show all with a threshold\n",
    "import matplotlib.pyplot as plt\n",
    "import matplotlib.patches as patches\n",
    "from PIL import Image\n",
    "\n",
    "im = kimage.load_img(image_path, target_size=(height, width))\n",
    "\n",
    "fig, ax = plt.subplots()\n",
    "ax.imshow(im)\n",
    "\n",
    "length = len(result)\n",
    "\n",
    "# Create a Rectangle patch\n",
    "for i in range(length):\n",
    "  if (result[i][0] > 0.76):\n",
    "    scale_height = height//18\n",
    "    scale_width  = width//46\n",
    "\n",
    "    print(result[i][0], result[i][1], result[i][2], result[i][4])\n",
    "    rect = patches.Rectangle((result[i][2]*scale_width // (result[i][4]+1),\n",
    "                              result[i][1]*scale_height // (result[i][4]+1)), \n",
    "                             224 // (result[i][4]+1), \n",
    "                             224 // (result[i][4]+1), \n",
    "                             linewidth=2, edgecolor='r', \n",
    "                             facecolor='none')\n",
    "    ax.add_patch(rect)\n",
    "    #plt.text(result[i][2]*scale_width-100, result[i][1]*scale_height, labels[result[i][3]])\n",
    "\n",
    "plt.show()"
   ]
  },
  {
   "cell_type": "code",
   "execution_count": null,
   "metadata": {
    "id": "xHhhbeXd7Jvz"
   },
   "outputs": [],
   "source": []
  },
  {
   "cell_type": "code",
   "execution_count": null,
   "metadata": {
    "id": "eGQlV6oR7J1n"
   },
   "outputs": [],
   "source": []
  },
  {
   "cell_type": "code",
   "execution_count": null,
   "metadata": {
    "colab": {
     "base_uri": "https://localhost:8080/",
     "height": 290
    },
    "executionInfo": {
     "elapsed": 1073,
     "status": "ok",
     "timestamp": 1615896209935,
     "user": {
      "displayName": "Quang Vinh",
      "photoUrl": "",
      "userId": "10640784768073460440"
     },
     "user_tz": -420
    },
    "id": "2-PoYf6cBtLM",
    "outputId": "6e5458dc-033a-4307-873b-410bbe90ae7b"
   },
   "outputs": [
    {
     "name": "stdout",
     "output_type": "stream",
     "text": [
      "0.95744056 22 39 1\n",
      "0.8178092 25 63 1\n",
      "0.8138674 27 31 1\n",
      "0.7989629 28 54 1\n",
      "0.7983379 25 50 1\n",
      "0.766482 10 16 1\n"
     ]
    },
    {
     "data": {
      "image/png": "[encoded data removed]",
      "text/plain": [
       "<Figure size 432x288 with 1 Axes>"
      ]
     },
     "metadata": {
      "needs_background": "light",
      "tags": []
     },
     "output_type": "display_data"
    }
   ],
   "source": [
    "# Show all with a threshold\n",
    "import matplotlib.pyplot as plt\n",
    "import matplotlib.patches as patches\n",
    "from PIL import Image\n",
    "\n",
    "im = kimage.load_img(image_path, target_size=(height, width))\n",
    "scale_height = height//37\n",
    "scale_width  = width//93\n",
    "\n",
    "fig, ax = plt.subplots()\n",
    "ax.imshow(im)\n",
    "\n",
    "length = len(result)\n",
    "\n",
    "# Create a Rectangle patch\n",
    "for i in range(length):\n",
    "  if (result[i][0] > 0.76 and result[i][4]==1):    \n",
    "    print(result[i][0], result[i][1], result[i][2], result[i][4])\n",
    "    rect = patches.Rectangle(( (result[i][2]) *scale_width,\n",
    "                               (result[i][1]) *scale_height), \n",
    "                              224//2, \n",
    "                              224//2, \n",
    "                              linewidth=2, edgecolor='r', \n",
    "                              facecolor='none')\n",
    "    ax.add_patch(rect)\n",
    "    #plt.text(result[i][2]*scale_width-100, result[i][1]*scale_height, labels[result[i][3]])\n",
    "\n",
    "plt.show()"
   ]
  },
  {
   "cell_type": "code",
   "execution_count": null,
   "metadata": {
    "id": "BkRMb5sR6ZnC"
   },
   "outputs": [],
   "source": []
  }
 ],
 "metadata": {
  "accelerator": "GPU",
  "colab": {
   "authorship_tag": "ABX9TyP/BSrd9AtRDi9l9XUWKUAn",
   "collapsed_sections": [],
   "name": "14.5.NaiveObjectDetection_multiobjects_multiscales.ipynb",
   "provenance": [
    {
     "file_id": "1IhH2RmUmSXMJ3JFPQeoWoboFImIIczlx",
     "timestamp": 1615133453281
    },
    {
     "file_id": "1_CJjVVhXSezURPzxWzJayEhiL6hHmtLj",
     "timestamp": 1615130763304
    }
   ]
  },
  "kernelspec": {
   "display_name": "Python 3 (ipykernel)",
   "language": "python",
   "name": "python3"
  },
  "language_info": {
   "codemirror_mode": {
    "name": "ipython",
    "version": 3
   },
   "file_extension": ".py",
   "mimetype": "text/x-python",
   "name": "python",
   "nbconvert_exporter": "python",
   "pygments_lexer": "ipython3",
   "version": "3.9.7"
  }
 },
 "nbformat": 4,
 "nbformat_minor": 1
}
