{
  "nbformat": 4,
  "nbformat_minor": 0,
  "metadata": {
    "colab": {
      "name": "day_night_classification.ipynb",
      "provenance": [],
      "collapsed_sections": [],
      "authorship_tag": "ABX9TyNvapGKM//I7k/8NiGmXDy0",
      "include_colab_link": true
    },
    "kernelspec": {
      "name": "python3",
      "display_name": "Python 3"
    },
    "language_info": {
      "name": "python"
    }
  },
  "cells": [
    {
      "cell_type": "markdown",
      "metadata": {
        "id": "view-in-github",
        "colab_type": "text"
      },
      "source": [
        "<a href=\"https://colab.research.google.com/github/vinhhust2806/vinhhust2806/blob/main/day_night_classification.ipynb\" target=\"_parent\"><img src=\"https://colab.research.google.com/assets/colab-badge.svg\" alt=\"Open In Colab\"/></a>"
      ]
    },
    {
      "cell_type": "code",
      "metadata": {
        "colab": {
          "base_uri": "https://localhost:8080/"
        },
        "id": "6_26A5rPZehR",
        "outputId": "7fbe1629-b865-4f9d-d82a-62058db54aaf"
      },
      "source": [
        "# Download images\n",
        "!gdown --id 1R8gmP0De2bnkdG50Qt2hbiXVlhAyfnyx"
      ],
      "execution_count": 2,
      "outputs": [
        {
          "output_type": "stream",
          "name": "stdout",
          "text": [
            "Downloading...\n",
            "From: https://drive.google.com/uc?id=1R8gmP0De2bnkdG50Qt2hbiXVlhAyfnyx\n",
            "To: /content/day_night_images.zip\n",
            "28.7MB [00:00, 78.5MB/s]\n"
          ]
        }
      ]
    },
    {
      "cell_type": "code",
      "metadata": {
        "id": "kcz5X3_Xa2DW"
      },
      "source": [
        "# unzip file .zip\n",
        "!unzip -qq day_night_images.zip"
      ],
      "execution_count": 3,
      "outputs": []
    },
    {
      "cell_type": "code",
      "metadata": {
        "id": "Fjh6qkETZhBD"
      },
      "source": [
        "import glob\n",
        "import os\n",
        "import cv2\n",
        "import numpy as np\n",
        "\n",
        "# Process train data\n",
        "train_day = glob.glob('/content/day_night_images/training/day/*.jpg')\n",
        "train_night = glob.glob('/content/day_night_images/training/night/*.jpg')\n",
        "train = [train_day , train_night]\n",
        "input_train = []\n",
        "label_train = []\n",
        "for i in range(2):\n",
        "  for j in train[i]:\n",
        "    a = cv2.imread(j)\n",
        "    a = cv2.resize(a,(256,256))\n",
        "    a = cv2.cvtColor(a,cv2.COLOR_BGR2HSV)\n",
        "    input_train.append(a)\n",
        "    label_train.append(i)\n",
        "input_train = np.array(input_train)\n",
        "label_train = np.array(label_train)"
      ],
      "execution_count": 4,
      "outputs": []
    },
    {
      "cell_type": "code",
      "metadata": {
        "id": "Zv8Kvapv5Sjb"
      },
      "source": [
        "# Process test data\n",
        "test_day = glob.glob('/content/day_night_images/test/day/*.jpg')\n",
        "test_night = glob.glob('/content/day_night_images/test/night/*.jpg')\n",
        "test = [test_day , test_night]\n",
        "input_test = []\n",
        "label_test = []\n",
        "for i in range(2):\n",
        "  for j in train[i]:\n",
        "    a = cv2.imread(j)\n",
        "    a = cv2.resize(a,(256,256))\n",
        "    a = cv2.cvtColor(a,cv2.COLOR_BGR2HSV)\n",
        "    input_test.append(a)\n",
        "    label_test.append(i)\n",
        "input_test = np.array(input_test)\n",
        "label_test = np.array(label_test)"
      ],
      "execution_count": 59,
      "outputs": []
    },
    {
      "cell_type": "code",
      "metadata": {
        "id": "4yunDxejAQv1"
      },
      "source": [
        "# Model\n",
        "def predict(anh):\n",
        "  i = anh[:,:,2].flatten()\n",
        "  demsang = []\n",
        "  predict = 0\n",
        "  if len(i[i>93]) / 256 / 256 < 0.5:\n",
        "      predict = 1\n",
        "  return predict\n",
        "\n",
        "# Predict  \n",
        "dudoan =[]\n",
        "for i in input_test:\n",
        "  a = predict(i)\n",
        "  dudoan.append(a)\n",
        "\n",
        "dudoan = np.array(dudoan)"
      ],
      "execution_count": 94,
      "outputs": []
    },
    {
      "cell_type": "code",
      "metadata": {
        "colab": {
          "base_uri": "https://localhost:8080/"
        },
        "id": "xH-kURzqAj9X",
        "outputId": "0fe425ad-25c3-4883-89dd-3e5cdfd6c35d"
      },
      "source": [
        "# Confusion matrix\n",
        "import tensorflow as tf\n",
        "tf.math.confusion_matrix(label_test,dudoan)"
      ],
      "execution_count": 95,
      "outputs": [
        {
          "output_type": "execute_result",
          "data": {
            "text/plain": [
              "<tf.Tensor: shape=(2, 2), dtype=int32, numpy=\n",
              "array([[104,  16],\n",
              "       [  2, 118]], dtype=int32)>"
            ]
          },
          "metadata": {},
          "execution_count": 95
        }
      ]
    }
  ]
}